{
 "cells": [
  {
   "cell_type": "code",
   "execution_count": null,
   "metadata": {
    "tags": []
   },
   "outputs": [],
   "source": [
    "%load_ext autoreload\n",
    "%autoreload 2\n",
    "import pandas as pd\n",
    "import numpy as np\n",
    "import merging\n",
    "import preprocess\n",
    "import scores\n",
    "import matplotlib.pyplot as plt\n",
    "import seaborn as sns\n",
    "import lightgbm as lgb \n",
    "import re"
   ]
  },
  {
   "cell_type": "code",
   "execution_count": null,
   "metadata": {},
   "outputs": [],
   "source": [
    "df = pd.read_csv('..\\df_preprocessed_2015-2019.csv')"
   ]
  },
  {
   "cell_type": "code",
   "execution_count": null,
   "metadata": {},
   "outputs": [],
   "source": [
    "cols = ['Flight Datetime', 'AOBT', 'ATOT']\n",
    "for col in cols:\n",
    "    df[col] = pd.to_datetime(df[col])"
   ]
  },
  {
   "cell_type": "code",
   "execution_count": null,
   "metadata": {},
   "outputs": [],
   "source": [
    "# Runway by traffic\n",
    "df=df.groupby('Runway').apply(preprocess.get_runway_traffic).reset_index(drop=True)"
   ]
  },
  {
   "cell_type": "code",
   "execution_count": null,
   "metadata": {},
   "outputs": [],
   "source": [
    "df.columns"
   ]
  },
  {
   "cell_type": "code",
   "execution_count": null,
   "metadata": {},
   "outputs": [],
   "source": [
    "df.drop(['Flight Datetime', 'AOBT', 'ATOT'],axis=1,inplace=True)"
   ]
  },
  {
   "cell_type": "code",
   "execution_count": null,
   "metadata": {},
   "outputs": [],
   "source": [
    "# Removing special characters from variable names\n",
    "df = df.rename(columns = lambda x:re.sub('[^A-Za-z0-9_]+', '', x))\n",
    "df.drop(['Unnamed0'],axis=1,inplace=True)"
   ]
  },
  {
   "cell_type": "code",
   "execution_count": null,
   "metadata": {},
   "outputs": [],
   "source": [
    "cols=['AircraftModel_x', 'Stand', 'Runway', 'summary', 'Manufacturer',\n",
    "       'Model', 'WakeCategory', 'Final', 'AircraftModel_y', 'OldMovementType','aobt_month', 'aobt_day', 'aobt_hour']\n",
    "for col in cols:\n",
    "    df[col]=df[col].astype('category')"
   ]
  },
  {
   "cell_type": "markdown",
   "metadata": {},
   "source": [
    "## Time Series Train-Test split"
   ]
  },
  {
   "cell_type": "code",
   "execution_count": null,
   "metadata": {},
   "outputs": [],
   "source": [
    "train=df[df['aobt_year']!=2019]\n",
    "test=df[df['aobt_year']==2019]\n",
    "X_train=train.drop('TO',axis=1)\n",
    "X_test=test.drop('TO',axis=1)\n",
    "\n",
    "y_train=train['TO']\n",
    "y_test=test['TO']"
   ]
  },
  {
   "cell_type": "markdown",
   "metadata": {},
   "source": [
    "### Model :All variables"
   ]
  },
  {
   "cell_type": "code",
   "execution_count": null,
   "metadata": {},
   "outputs": [],
   "source": [
    "reg=lgb.LGBMRegressor(n_estimators=75)\n",
    "reg.fit(X_train,y_train)\n",
    "y_pred_train = reg.predict(X_train)\n",
    "y_pred_test = reg.predict(X_test)"
   ]
  },
  {
   "cell_type": "code",
   "execution_count": null,
   "metadata": {
    "tags": []
   },
   "outputs": [],
   "source": [
    "print('Train scores : {}'.format(scores.get_scores(y_train,y_pred_train,['rmse','r2','mae'])))\n",
    "print('Test scores : {}'.format(scores.get_scores(y_test,y_pred_test,['rmse','r2','mae'])))"
   ]
  },
  {
   "cell_type": "code",
   "execution_count": null,
   "metadata": {},
   "outputs": [],
   "source": [
    "lgb.plot_importance(reg,max_num_features=20,importance_type='gain')"
   ]
  },
  {
   "cell_type": "markdown",
   "metadata": {},
   "source": [
    "### Single feature models"
   ]
  },
  {
   "cell_type": "code",
   "execution_count": null,
   "metadata": {
    "tags": []
   },
   "outputs": [],
   "source": [
    "for col in df.columns:\n",
    "    X_train=train[[col]]\n",
    "    X_test=test[[col]]   \n",
    "    reg=lgb.LGBMRegressor(n_estimators=75)\n",
    "    reg.fit(X_train,y_train)\n",
    "    y_pred_train = reg.predict(X_train)\n",
    "    y_pred_test = reg.predict(X_test)\n",
    "    print(\"Feature: {}\".format(col))\n",
    "    print('Train scores : {}'.format(scores.get_scores(y_train,y_pred_train,['rmse','r2','mae'])))\n",
    "    print('Test scores : {}\\n'.format(scores.get_scores(y_test,y_pred_test,['rmse','r2','mae']))) "
   ]
  },
  {
   "cell_type": "markdown",
   "metadata": {},
   "source": [
    "### Feature subset"
   ]
  },
  {
   "cell_type": "code",
   "execution_count": null,
   "metadata": {},
   "outputs": [],
   "source": [
    "train.columns"
   ]
  },
  {
   "cell_type": "code",
   "execution_count": null,
   "metadata": {},
   "outputs": [],
   "source": [
    "features=[ 'traffic', 'Q',\n",
    "        'TO1', 'TO2', 'TO3',  'TORunway1',\n",
    "       'TORunway2', 'TORunway3',\n",
    "       'aobt_year', 'aobt_month', 'aobt_day', 'aobt_hour', 'windSpeed',\n",
    "       'precipAccumulation',   'Lengthft']\n",
    "X_train=train[features]\n",
    "X_test=test[features]"
   ]
  },
  {
   "cell_type": "code",
   "execution_count": null,
   "metadata": {},
   "outputs": [],
   "source": [
    "reg=lgb.LGBMRegressor(n_estimators=75)\n",
    "reg.fit(X_train,y_train)\n",
    "y_pred_train = reg.predict(X_train)\n",
    "y_pred_test = reg.predict(X_test)"
   ]
  },
  {
   "cell_type": "code",
   "execution_count": null,
   "metadata": {
    "tags": []
   },
   "outputs": [],
   "source": [
    "print('Train scores : {}'.format(scores.get_scores(y_train,y_pred_train,['rmse','r2','mae'])))\n",
    "print('Test scores : {}'.format(scores.get_scores(y_test,y_pred_test,['rmse','r2','mae'])))"
   ]
  },
  {
   "cell_type": "code",
   "execution_count": null,
   "metadata": {},
   "outputs": [],
   "source": [
    "lgb.plot_importance(reg,max_num_features=20,importance_type='gain')"
   ]
  },
  {
   "cell_type": "markdown",
   "metadata": {},
   "source": [
    "#### Errors Analysis"
   ]
  },
  {
   "cell_type": "code",
   "execution_count": null,
   "metadata": {},
   "outputs": [],
   "source": [
    "pd.options.display.max_columns = 60\n",
    "pd.options.display.max_rows = 60"
   ]
  },
  {
   "cell_type": "code",
   "execution_count": null,
   "metadata": {},
   "outputs": [],
   "source": [
    "errors=abs(y_pred_test-y_test)"
   ]
  },
  {
   "cell_type": "code",
   "execution_count": null,
   "metadata": {},
   "outputs": [],
   "source": [
    "indices=errors.sort_values( ascending=False)[:20].index\n",
    "bigerrors=df.iloc[indices]\n",
    "bigerrors['predicted']=pd.Series(y_pred_test,index=y_test.index)[indices]"
   ]
  },
  {
   "cell_type": "code",
   "execution_count": null,
   "metadata": {},
   "outputs": [],
   "source": [
    "bigerrors['predicted']=pd.Series(y_pred_test,index=y_test.index)[indices]"
   ]
  },
  {
   "cell_type": "code",
   "execution_count": null,
   "metadata": {},
   "outputs": [],
   "source": [
    "bigerrors[['TO','predicted','TO1','TO2','TO3','traffic','runway_traffic','TORunway1',\n",
    "       'TORunway2', 'TORunway3']]"
   ]
  }
 ],
 "metadata": {
  "kernelspec": {
   "display_name": "Python 3",
   "language": "python",
   "name": "python3"
  },
  "language_info": {
   "codemirror_mode": {
    "name": "ipython",
    "version": 3
   },
   "file_extension": ".py",
   "mimetype": "text/x-python",
   "name": "python",
   "nbconvert_exporter": "python",
   "pygments_lexer": "ipython3",
   "version": "3.7.3-final"
  }
 },
 "nbformat": 4,
 "nbformat_minor": 4
}