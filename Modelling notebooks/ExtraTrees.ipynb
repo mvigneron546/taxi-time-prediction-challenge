{
 "cells": [
  {
   "cell_type": "code",
   "execution_count": null,
   "metadata": {},
   "outputs": [],
   "source": [
    "import pandas as pd\n",
    "import numpy as np\n",
    "from sklearn.ensemble import ExtraTreesRegressor\n",
    "from sklearn.model_selection import GridSearchCV\n",
    "from sklearn.model_selection import ParameterGrid\n",
    "from sklearn import metrics"
   ]
  },
  {
   "cell_type": "code",
   "execution_count": null,
   "metadata": {},
   "outputs": [],
   "source": [
    "df_preprocessed = pd.read_csv('..\\df_preprocessed_2015-2019.csv')"
   ]
  },
  {
   "cell_type": "code",
   "execution_count": null,
   "metadata": {},
   "outputs": [],
   "source": [
    "import re\n",
    "df1 = df1.rename(columns = lambda x:re.sub('[^A-Za-z0-9_]+', '', x)) "
   ]
  },
  {
   "cell_type": "code",
   "execution_count": null,
   "metadata": {},
   "outputs": [],
   "source": [
    "#exclude the object datatype\n",
    "df1 = df1.select_dtypes(exclude=['object'])\n",
    "#drop the unusual taxi of 6660 minutes\n",
    "df1 = df1.drop(df1[df1.TO == 39360].index)"
   ]
  },
  {
   "cell_type": "code",
   "execution_count": null,
   "metadata": {},
   "outputs": [],
   "source": [
    "#split into train and test\n",
    "train=df1[df1['aobt_year'] != 2019]\n",
    "test=df1[df1['aobt_year'] == 2019]\n",
    "x_train=train.loc[:, train.columns != 'TO']\n",
    "x_test=test.loc[:, test.columns != 'TO']\n",
    "y_train =train[['TO']]\n",
    "y_test =test[['TO']]"
   ]
  },
  {
   "cell_type": "code",
   "execution_count": null,
   "metadata": {},
   "outputs": [],
   "source": [
    "#Running grid search to obtain the best parameters\n",
    "model = ExtraTreesRegressor(n_estimators=100, n_jobs=4, min_samples_split=20,\n",
    "                            min_samples_leaf=35)\n",
    "\n",
    "\n",
    "#Gradient Boosting with simple grid\n",
    "#Only three parameters tuned, all others kept as default\n",
    "grid = ParameterGrid({'n_estimators':[50,25,125], 'max_features': [10,25,30],'min_samples_split':  [5,25,50], 'min_samples_leaf':[5,20,50]\n",
    "           })\n",
    "    \n",
    "for parameters in grid:\n",
    "    regressor=ExtraTreesRegressor(**parameters)\n",
    "    model=regressor.fit(x_train, y_train.values.ravel())\n",
    "    y_pred = model.predict(x_test)\n",
    "    \n",
    "    #compute MSE\n",
    "    mse = np.sqrt(metrics.mean_squared_error(y_test, y_pred))\n",
    "    print(\"MSE: %.2f\" % mse)\n",
    "    \n",
    "    #Show tuned parameters for each iteration (3*3*2 models)\n",
    "    tuned_parameters=model.get_params\n",
    "    print(tuned_parameters)"
   ]
  },
  {
   "cell_type": "code",
   "execution_count": null,
   "metadata": {},
   "outputs": [],
   "source": []
  },
  {
   "cell_type": "code",
   "execution_count": null,
   "metadata": {},
   "outputs": [],
   "source": []
  }
 ],
 "metadata": {
  "kernelspec": {
   "display_name": "Python 3",
   "language": "python",
   "name": "python3"
  },
  "language_info": {
   "codemirror_mode": {
    "name": "ipython",
    "version": 3
   },
   "file_extension": ".py",
   "mimetype": "text/x-python",
   "name": "python",
   "nbconvert_exporter": "python",
   "pygments_lexer": "ipython3",
   "version": "3.7.7"
  }
 },
 "nbformat": 4,
 "nbformat_minor": 4
}