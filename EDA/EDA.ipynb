{
 "cells": [
  {
   "cell_type": "code",
   "execution_count": null,
   "metadata": {
    "tags": []
   },
   "outputs": [],
   "source": [
    "%load_ext autoreload\n",
    "%autoreload 2\n",
    "import pandas as pd\n",
    "import numpy as np\n",
    "import merging\n",
    "import preprocess\n",
    "import scores\n",
    "import matplotlib.pyplot as plt\n",
    "import seaborn as sns\n",
    "import lightgbm as lgb \n",
    "import re"
   ]
  },
  {
   "cell_type": "code",
   "execution_count": null,
   "metadata": {},
   "outputs": [],
   "source": [
    "df_airport = pd.read_csv('Taxi time - eleven Data Challenge/0. Airport data/training_set_airport_data.csv')"
   ]
  },
  {
   "cell_type": "code",
   "execution_count": null,
   "metadata": {},
   "outputs": [],
   "source": [
    "df_airport = preprocess.calc_TO_time(df_airport)\n",
    "df_airport = merging.merge_distance(df_airport)\n",
    "df_airport = merging.merge_traffic(df_airport)\n",
    "df_airport = merging.get_weather_data(df_airport)\n",
    "df_airport = merging.merge_tech(df_airport)"
   ]
  },
  {
   "cell_type": "code",
   "execution_count": null,
   "metadata": {},
   "outputs": [],
   "source": [
    "df_airport.head(3)"
   ]
  },
  {
   "cell_type": "code",
   "execution_count": null,
   "metadata": {},
   "outputs": [],
   "source": [
    "df=preprocess.get_previous_taxi_times(df_airport,5)"
   ]
  },
  {
   "cell_type": "code",
   "execution_count": null,
   "metadata": {},
   "outputs": [],
   "source": [
    "df=preprocess.get_ma(df,30)"
   ]
  },
  {
   "cell_type": "code",
   "execution_count": null,
   "metadata": {},
   "outputs": [],
   "source": [
    "# Proxy for delay\n",
    "df['delay']=(df['AOBT']-df['Flight Datetime']).dt.seconds"
   ]
  },
  {
   "cell_type": "code",
   "execution_count": null,
   "metadata": {},
   "outputs": [],
   "source": [
    "# Runway by traffic\n",
    "df=df.groupby('Runway').apply(preprocess.get_runway_traffic).reset_index(drop=True)"
   ]
  },
  {
   "cell_type": "code",
   "execution_count": null,
   "metadata": {},
   "outputs": [],
   "source": [
    "# Scheduled flights for the day/hour\n",
    "datecounts=df.set_index('Flight Datetime').groupby(pd.Grouper(freq='D')).size().reset_index(name='Scheduled Flights day')\n",
    "hourcounts=df.set_index('Flight Datetime').groupby(pd.Grouper(freq='H')).size().reset_index(name='Scheduled Flights hour')\n",
    "df=df.sort_values('Flight Datetime').reset_index(drop=True)\n",
    "df=pd.merge_asof(df,datecounts,on='Flight Datetime')\n",
    "df=pd.merge_asof(df,hourcounts,on='Flight Datetime')"
   ]
  },
  {
   "cell_type": "code",
   "execution_count": null,
   "metadata": {},
   "outputs": [],
   "source": [
    "df[['TO','Scheduled Flights hour','MA_30',]].corr()"
   ]
  },
  {
   "cell_type": "code",
   "execution_count": null,
   "metadata": {},
   "outputs": [],
   "source": [
    "df['aobt_year']=df['AOBT'].dt.year\n",
    "df['aobt_month']=df['AOBT'].dt.month\n",
    "df['aobt_day']=df['AOBT'].dt.weekday\n",
    "df['aobt_hour']=df['AOBT'].dt.hour\n",
    "df.drop(['Flight Datetime', 'AOBT', 'ATOT'],axis=1,inplace=True)"
   ]
  },
  {
   "cell_type": "code",
   "execution_count": null,
   "metadata": {},
   "outputs": [],
   "source": [
    "# Removing special characters from variable names\n",
    "import re\n",
    "df = df.rename(columns = lambda x:re.sub('[^A-Za-z0-9_]+', '', x))\n",
    "df.drop(['Unnamed0'],axis=1,inplace=True)"
   ]
  },
  {
   "cell_type": "code",
   "execution_count": null,
   "metadata": {},
   "outputs": [],
   "source": [
    "cols=['AircraftModel_x', 'Stand', 'Runway', 'summary', 'Manufacturer',\n",
    "       'Model', 'WakeCategory', 'Final', 'AircraftModel_y', 'OldMovementType','aobt_month', 'aobt_day', 'aobt_hour']\n",
    "for col in cols:\n",
    "    df[col]=df[col].astype('category')"
   ]
  },
  {
   "cell_type": "markdown",
   "metadata": {},
   "source": [
    "## Taxi time analysis"
   ]
  },
  {
   "cell_type": "code",
   "execution_count": null,
   "metadata": {},
   "outputs": [],
   "source": [
    "plt.figure(figsize=(15,3))\n",
    "ax = sns.boxplot(x=df['TO'])"
   ]
  },
  {
   "cell_type": "code",
   "execution_count": null,
   "metadata": {
    "tags": []
   },
   "outputs": [],
   "source": [
    "q1,q3=np.percentile(df['TO'],(25,75))\n",
    "iqr=q3-q1\n",
    "lb=q1-1.5*iqr\n",
    "ub=q3+1.5*iqr\n",
    "print(\"Percentage of outliers: {} \".format(100*(df[(df['TO']>ub)|(df['TO']<lb)].shape[0])/(df.shape[0])))"
   ]
  },
  {
   "cell_type": "code",
   "execution_count": null,
   "metadata": {},
   "outputs": [],
   "source": [
    "df[(df['TO']>3600)].shape"
   ]
  },
  {
   "cell_type": "markdown",
   "metadata": {},
   "source": [
    "## Feature analysis: Traffic"
   ]
  },
  {
   "cell_type": "code",
   "execution_count": null,
   "metadata": {
    "tags": []
   },
   "outputs": [],
   "source": [
    "print('Correlation with taxi times:{}'.format(np.corrcoef(df['traffic'],df['TO'])[0][1]))"
   ]
  },
  {
   "cell_type": "code",
   "execution_count": null,
   "metadata": {},
   "outputs": [],
   "source": [
    "#df.groupby('traffic')['TO'].mean().plot(kind='bar')\n",
    "sns.barplot(df['traffic'],df['TO'])"
   ]
  },
  {
   "cell_type": "code",
   "execution_count": null,
   "metadata": {},
   "outputs": [],
   "source": [
    "#df['traffic'].value_counts(sort=False).plot(kind='bar')\n",
    "sns.countplot(df['traffic'])"
   ]
  },
  {
   "cell_type": "markdown",
   "metadata": {},
   "source": [
    "## Feature analysis: Previous taxi times"
   ]
  },
  {
   "cell_type": "code",
   "execution_count": null,
   "metadata": {},
   "outputs": [],
   "source": [
    "import plotly.express as px\n",
    "fig = px.scatter(x=df['TO1'],y=df['TO'])\n",
    "fig.show()"
   ]
  },
  {
   "cell_type": "code",
   "execution_count": null,
   "metadata": {},
   "outputs": [],
   "source": [
    "df[['TO','TO1','TO2', 'TO3', 'TO4', 'TO5']].corr(method='pearson')"
   ]
  },
  {
   "cell_type": "markdown",
   "metadata": {},
   "source": [
    "## Feature analysis: Distance"
   ]
  },
  {
   "cell_type": "code",
   "execution_count": null,
   "metadata": {
    "tags": []
   },
   "outputs": [],
   "source": [
    "print('Correlation with taxi times:{}'.format(np.corrcoef(df['distance'],df['TO'])[0][1]))"
   ]
  },
  {
   "cell_type": "code",
   "execution_count": null,
   "metadata": {
    "tags": []
   },
   "outputs": [],
   "source": [
    "sns.distplot(df['distance'],bins=10)"
   ]
  },
  {
   "cell_type": "code",
   "execution_count": null,
   "metadata": {},
   "outputs": [],
   "source": [
    "new_df=df.copy()\n",
    "new_df['cat_distance']=pd.cut(new_df['distance'],10)\n",
    "new_df.groupby('cat_distance')['TO'].mean()"
   ]
  },
  {
   "cell_type": "code",
   "execution_count": null,
   "metadata": {},
   "outputs": [],
   "source": [
    "# plt.figure(figsize=(20,5))\n",
    "sns.barplot(new_df['TO'],new_df['cat_distance'],orient='h')"
   ]
  },
  {
   "cell_type": "markdown",
   "metadata": {},
   "source": [
    "## Feature analysis: Delay"
   ]
  },
  {
   "cell_type": "code",
   "execution_count": null,
   "metadata": {
    "tags": []
   },
   "outputs": [],
   "source": [
    "print('Correlation with taxi times:{}'.format(np.corrcoef(df['delay'],df['TO'])[0][1]))"
   ]
  },
  {
   "cell_type": "code",
   "execution_count": null,
   "metadata": {},
   "outputs": [],
   "source": [
    "sns.distplot(df['delay'],bins=10)"
   ]
  },
  {
   "cell_type": "code",
   "execution_count": null,
   "metadata": {},
   "outputs": [],
   "source": [
    "new_df=df.copy()\n",
    "new_df['cat_delay']=pd.cut(new_df['delay'],10)\n",
    "new_df.groupby('cat_delay')['TO'].mean()"
   ]
  },
  {
   "cell_type": "code",
   "execution_count": null,
   "metadata": {},
   "outputs": [],
   "source": [
    "sns.countplot(y=new_df['cat_delay'],orient='h')"
   ]
  },
  {
   "cell_type": "markdown",
   "metadata": {},
   "source": [
    "## Feature analysis: Weather"
   ]
  },
  {
   "cell_type": "code",
   "execution_count": null,
   "metadata": {},
   "outputs": [],
   "source": [
    "weather_numeric_cols=['precipIntensity', 'precipProbability', 'temperature',\n",
    "       'apparentTemperature', 'dewPoint', 'humidity', 'pressure', 'windSpeed',\n",
    "       'windGust', 'windBearing', 'cloudCover', 'uvIndex', 'visibility',\n",
    "       'precipAccumulation', 'ozone']"
   ]
  },
  {
   "cell_type": "code",
   "execution_count": null,
   "metadata": {},
   "outputs": [],
   "source": [
    "sns.barplot(y=df['summary'],x=df['TO'])"
   ]
  },
  {
   "cell_type": "code",
   "execution_count": null,
   "metadata": {},
   "outputs": [],
   "source": [
    "sns.countplot(y=df['summary'])"
   ]
  },
  {
   "cell_type": "code",
   "execution_count": null,
   "metadata": {},
   "outputs": [],
   "source": [
    "df[weather_numeric_cols+['TO']].corr().round(decimals=2)"
   ]
  },
  {
   "cell_type": "markdown",
   "metadata": {},
   "source": [
    "## Feature analysis: AC characteristics"
   ]
  },
  {
   "cell_type": "code",
   "execution_count": null,
   "metadata": {},
   "outputs": [],
   "source": [
    "ac_chars=['Manufacturer', 'Model',\n",
    "       'Engines', 'Wingspanft', 'Lengthft', 'WakeCategory', 'Final',\n",
    "       'AircraftModel_y', 'OldAircraftLength', 'OldAircraftSpan',\n",
    "       'OldNoEngines', 'OldMovementType']\n",
    "cat_cols=df[ac_chars].select_dtypes('category').columns\n",
    "numeric_cols=df[ac_chars].select_dtypes(['int64','float','int32']).columns"
   ]
  },
  {
   "cell_type": "code",
   "execution_count": null,
   "metadata": {},
   "outputs": [],
   "source": [
    "numeric_cols"
   ]
  },
  {
   "cell_type": "code",
   "execution_count": null,
   "metadata": {},
   "outputs": [],
   "source": [
    "fig,axes=plt.subplots(1,2,figsize=(25,15))\n",
    "sns.barplot(y=df['Manufacturer'],x=df['TO'],ax=axes[0])\n",
    "sns.countplot(y=df['Manufacturer'],ax=axes[1])"
   ]
  },
  {
   "cell_type": "code",
   "execution_count": null,
   "metadata": {},
   "outputs": [],
   "source": [
    "fig,axes=plt.subplots(1,2,figsize=(25,15))\n",
    "sns.barplot(y=df['Model'],x=df['TO'],ax=axes[0])\n",
    "sns.countplot(y=df['Model'],ax=axes[1])"
   ]
  },
  {
   "cell_type": "code",
   "execution_count": null,
   "metadata": {},
   "outputs": [],
   "source": [
    "fig,axes=plt.subplots(1,2,figsize=(25,5))\n",
    "sns.barplot(y=df['Engines'],x=df['TO'],ax=axes[0],orient='h')\n",
    "sns.countplot(y=df['Engines'],ax=axes[1])"
   ]
  },
  {
   "cell_type": "code",
   "execution_count": null,
   "metadata": {},
   "outputs": [],
   "source": [
    "fig,axes=plt.subplots(1,2,figsize=(25,5))\n",
    "sns.barplot(y=df['WakeCategory'],x=df['TO'],ax=axes[0],orient='h')\n",
    "sns.countplot(y=df['WakeCategory'],ax=axes[1])"
   ]
  },
  {
   "cell_type": "code",
   "execution_count": null,
   "metadata": {},
   "outputs": [],
   "source": [
    "fig,axes=plt.subplots(1,2,figsize=(25,30))\n",
    "sns.barplot(y=df['Final'],x=df['TO'],ax=axes[0],orient='h')\n",
    "sns.countplot(y=df['Final'],ax=axes[1])"
   ]
  },
  {
   "cell_type": "code",
   "execution_count": null,
   "metadata": {},
   "outputs": [],
   "source": [
    "fig,axes=plt.subplots(1,2,figsize=(25,30))\n",
    "sns.barplot(y=df['AircraftModel_y'],x=df['TO'],ax=axes[0],orient='h')\n",
    "sns.countplot(y=df['AircraftModel_y'],ax=axes[1])"
   ]
  },
  {
   "cell_type": "code",
   "execution_count": null,
   "metadata": {},
   "outputs": [],
   "source": [
    "fig,axes=plt.subplots(1,2,figsize=(25,2))\n",
    "sns.barplot(y=df['OldMovementType'],x=df['TO'],ax=axes[0],orient='h')\n",
    "sns.countplot(y=df['OldMovementType'],ax=axes[1])"
   ]
  },
  {
   "cell_type": "code",
   "execution_count": null,
   "metadata": {},
   "outputs": [],
   "source": [
    "df[list(numeric_cols)+['TO']].corr()"
   ]
  },
  {
   "cell_type": "markdown",
   "metadata": {},
   "source": [
    "## Feature Analysis: Stand/Runway"
   ]
  },
  {
   "cell_type": "code",
   "execution_count": null,
   "metadata": {},
   "outputs": [],
   "source": [
    "fig,axes=plt.subplots(1,2,figsize=(25,30))\n",
    "sns.barplot(y=df['Stand'],x=df['TO'],ax=axes[0],orient='h')\n",
    "sns.countplot(y=df['Stand'],ax=axes[1])"
   ]
  },
  {
   "cell_type": "code",
   "execution_count": null,
   "metadata": {},
   "outputs": [],
   "source": [
    "fig,axes=plt.subplots(1,2,figsize=(25,5))\n",
    "sns.barplot(y=df['Runway'],x=df['TO'],ax=axes[0],orient='h')\n",
    "sns.countplot(y=df['Runway'],ax=axes[1])"
   ]
  },
  {
   "cell_type": "markdown",
   "metadata": {},
   "source": [
    "## Feature Analysis time attributes"
   ]
  },
  {
   "cell_type": "code",
   "execution_count": null,
   "metadata": {
    "tags": []
   },
   "outputs": [],
   "source": [
    "fig,axes=plt.subplots(1,2,figsize=(25,5))\n",
    "sns.barplot(y=df['aobt_year'],x=df['TO'],ax=axes[0],orient='h')\n",
    "sns.countplot(y=df['aobt_year'],ax=axes[1])"
   ]
  },
  {
   "cell_type": "code",
   "execution_count": null,
   "metadata": {},
   "outputs": [],
   "source": [
    "fig,axes=plt.subplots(1,2,figsize=(25,10))\n",
    "sns.barplot(y=df['aobt_month'],x=df['TO'],ax=axes[0],orient='h')\n",
    "sns.countplot(y=df['aobt_month'],ax=axes[1])"
   ]
  },
  {
   "cell_type": "code",
   "execution_count": null,
   "metadata": {},
   "outputs": [],
   "source": [
    "fig,axes=plt.subplots(1,2,figsize=(25,10))\n",
    "sns.barplot(y=df['aobt_hour'],x=df['TO'],ax=axes[0],orient='h')\n",
    "sns.countplot(y=df['aobt_hour'],ax=axes[1])"
   ]
  },
  {
   "cell_type": "code",
   "execution_count": null,
   "metadata": {},
   "outputs": [],
   "source": [
    "fig,axes=plt.subplots(1,2,figsize=(25,5))\n",
    "sns.barplot(y=df['aobt_day'],x=df['TO'],ax=axes[0],orient='h')\n",
    "sns.countplot(y=df['aobt_day'],ax=axes[1])"
   ]
  },
  {
   "cell_type": "markdown",
   "metadata": {},
   "source": [
    "## Normal Train-Test split"
   ]
  },
  {
   "cell_type": "code",
   "execution_count": null,
   "metadata": {},
   "outputs": [],
   "source": [
    "from sklearn.model_selection import train_test_split\n",
    "X=df.drop(['TO'],axis=1)\n",
    "y=df['TO']\n",
    "X_train, X_test, y_train, y_test = train_test_split(X, y, test_size=0.25, random_state=42)"
   ]
  },
  {
   "cell_type": "code",
   "execution_count": null,
   "metadata": {},
   "outputs": [],
   "source": [
    "import lightgbm as lgb\n",
    "reg=lgb.LGBMRegressor(n_estimators=1000)\n",
    "reg.fit(X_train,y_train)\n",
    "y_pred_train = reg.predict(X_train)\n",
    "y_pred_test = reg.predict(X_test)"
   ]
  },
  {
   "cell_type": "code",
   "execution_count": null,
   "metadata": {
    "tags": []
   },
   "outputs": [],
   "source": [
    "print('Train scores : {}'.format(scores.get_scores(y_train,y_pred_train,['rmse','r2','mae'])))\n",
    "print('Test scores : {}'.format(scores.get_scores(y_test,y_pred_test,['rmse','r2','mae'])))"
   ]
  },
  {
   "cell_type": "code",
   "execution_count": null,
   "metadata": {},
   "outputs": [],
   "source": [
    "lgb.plot_importance(reg,max_num_features=20)"
   ]
  },
  {
   "cell_type": "markdown",
   "metadata": {},
   "source": [
    "## Time Series Train-Test split"
   ]
  },
  {
   "cell_type": "markdown",
   "metadata": {},
   "source": [
    "### All variables"
   ]
  },
  {
   "cell_type": "code",
   "execution_count": null,
   "metadata": {},
   "outputs": [],
   "source": [
    "train=df[df['aobt_year']!=2018]\n",
    "test=df[df['aobt_year']==2018]\n",
    "X_train=train.drop('TO',axis=1)\n",
    "X_test=test.drop('TO',axis=1)\n",
    "\n",
    "y_train=train['TO']\n",
    "y_test=test['TO']"
   ]
  },
  {
   "cell_type": "code",
   "execution_count": null,
   "metadata": {},
   "outputs": [],
   "source": [
    "reg=lgb.LGBMRegressor(n_estimators=75)\n",
    "reg.fit(X_train,y_train)\n",
    "y_pred_train = reg.predict(X_train)\n",
    "y_pred_test = reg.predict(X_test)"
   ]
  },
  {
   "cell_type": "code",
   "execution_count": null,
   "metadata": {
    "tags": []
   },
   "outputs": [],
   "source": [
    "print('Train scores : {}'.format(scores.get_scores(y_train,y_pred_train,['rmse','r2','mae'])))\n",
    "print('Test scores : {}'.format(scores.get_scores(y_test,y_pred_test,['rmse','r2','mae'])))"
   ]
  },
  {
   "cell_type": "code",
   "execution_count": null,
   "metadata": {},
   "outputs": [],
   "source": [
    "lgb.plot_importance(reg,max_num_features=20,importance_type='gain')"
   ]
  },
  {
   "cell_type": "markdown",
   "metadata": {},
   "source": [
    "### Single feature models"
   ]
  },
  {
   "cell_type": "code",
   "execution_count": null,
   "metadata": {
    "tags": []
   },
   "outputs": [],
   "source": [
    "for col in df.columns:\n",
    "    X_train=train[[col]]\n",
    "    X_test=test[[col]]   \n",
    "    reg=lgb.LGBMRegressor(n_estimators=75)\n",
    "    reg.fit(X_train,y_train)\n",
    "    y_pred_train = reg.predict(X_train)\n",
    "    y_pred_test = reg.predict(X_test)\n",
    "    print(\"Feature: {}\".format(col))\n",
    "    print('Train scores : {}'.format(scores.get_scores(y_train,y_pred_train,['rmse','r2','mae'])))\n",
    "    print('Test scores : {}\\n'.format(scores.get_scores(y_test,y_pred_test,['rmse','r2','mae']))) "
   ]
  },
  {
   "cell_type": "markdown",
   "metadata": {},
   "source": [
    "### Feature subset"
   ]
  },
  {
   "cell_type": "code",
   "execution_count": null,
   "metadata": {},
   "outputs": [],
   "source": [
    "train.columns"
   ]
  },
  {
   "cell_type": "code",
   "execution_count": null,
   "metadata": {},
   "outputs": [],
   "source": [
    "features=[ 'distance', 'traffic',\n",
    "       'summary', 'precipIntensity', 'precipProbability', 'temperature',\n",
    "       'apparentTemperature', 'dewPoint', 'humidity',  'windSpeed',\n",
    "       'windGust', 'windBearing',  'uvIndex', 'visibility',\n",
    "        'Engines',\n",
    "       'Wingspanft', 'Lengthft', \n",
    "       'TO1', 'TO2', 'TO3', 'TO4', 'TO5', 'delay',\n",
    "       'aobt_year', 'aobt_month', 'aobt_day', 'aobt_hour','ScheduledFlightsday','MA_30']\n",
    "X_train=train[features]\n",
    "X_test=test[features]"
   ]
  },
  {
   "cell_type": "code",
   "execution_count": null,
   "metadata": {},
   "outputs": [],
   "source": [
    "reg=lgb.LGBMRegressor(n_estimators=75)\n",
    "reg.fit(X_train,y_train)\n",
    "y_pred_train = reg.predict(X_train)\n",
    "y_pred_test = reg.predict(X_test)"
   ]
  },
  {
   "cell_type": "code",
   "execution_count": null,
   "metadata": {
    "tags": []
   },
   "outputs": [],
   "source": [
    "print('Train scores : {}'.format(scores.get_scores(y_train,y_pred_train,['rmse','r2','mae'])))\n",
    "print('Test scores : {}'.format(scores.get_scores(y_test,y_pred_test,['rmse','r2','mae'])))"
   ]
  },
  {
   "cell_type": "code",
   "execution_count": null,
   "metadata": {},
   "outputs": [],
   "source": [
    "lgb.plot_importance(reg,max_num_features=20,importance_type='gain')"
   ]
  },
  {
   "cell_type": "markdown",
   "metadata": {},
   "source": [
    "#### Errors Analysis"
   ]
  },
  {
   "cell_type": "code",
   "execution_count": null,
   "metadata": {},
   "outputs": [],
   "source": [
    "pd.options.display.max_columns = 60\n",
    "pd.options.display.max_rows = 60"
   ]
  },
  {
   "cell_type": "code",
   "execution_count": null,
   "metadata": {},
   "outputs": [],
   "source": [
    "np.sort(y_pred_test)"
   ]
  },
  {
   "cell_type": "code",
   "execution_count": null,
   "metadata": {},
   "outputs": [],
   "source": [
    "errors=abs(y_pred_test-y_test)"
   ]
  },
  {
   "cell_type": "code",
   "execution_count": null,
   "metadata": {},
   "outputs": [],
   "source": [
    "indices=errors.sort_values( ascending=False)[:20].index\n",
    "bigerrors=df.iloc[indices]\n",
    "bigerrors['predicted']=pd.Series(y_pred_test,index=y_test.index)[indices]"
   ]
  },
  {
   "cell_type": "code",
   "execution_count": null,
   "metadata": {},
   "outputs": [],
   "source": [
    "bigerrors['predicted']=pd.Series(y_pred_test,index=y_test.index)[indices]"
   ]
  },
  {
   "cell_type": "code",
   "execution_count": null,
   "metadata": {},
   "outputs": [],
   "source": [
    "bigerrors[bigerrors['TO']>5400].shape[0]/bigerrors.shape[0]"
   ]
  },
  {
   "cell_type": "code",
   "execution_count": null,
   "metadata": {},
   "outputs": [],
   "source": [
    "bigerrors[['TO','predicted','TO1','TO2','TO3','TO4','TO5','traffic','runway_traffic']]"
   ]
  },
  {
   "cell_type": "markdown",
   "metadata": {},
   "source": [
    "## Removing outliers"
   ]
  },
  {
   "cell_type": "markdown",
   "metadata": {},
   "source": [
    "#### TO>5400"
   ]
  },
  {
   "cell_type": "code",
   "execution_count": null,
   "metadata": {
    "tags": []
   },
   "outputs": [],
   "source": [
    "threshold=5400\n",
    "df=df_airport[df_airport['TO']<=threshold]\n",
    "print(\"Filtering out {} values ({:0.2f}%)\".format(df_airport[df_airport['TO']>threshold].shape[0],100*(df_airport[df_airport['TO']>threshold].shape[0]/df_airport.shape[0])))"
   ]
  },
  {
   "cell_type": "code",
   "execution_count": null,
   "metadata": {},
   "outputs": [],
   "source": [
    "df=preprocess.get_previous_taxi_times(df,5)\n",
    "df=preprocess.get_ma(df,30)\n",
    "df=preprocess.get_ma(df,60)\n",
    "df=preprocess.get_ma(df,100)\n",
    "df=preprocess.get_no_takeoffs(df)\n",
    "df['delay']=(df['AOBT']-df['Flight Datetime']).dt.seconds\n",
    "df=df.groupby('Runway').apply(preprocess.get_runway_traffic).reset_index(drop=True)\n",
    "datecounts=df.set_index('Flight Datetime').groupby(pd.Grouper(freq='D')).size().reset_index(name='Scheduled Flights day')\n",
    "hourcounts=df.set_index('Flight Datetime').groupby(pd.Grouper(freq='H')).size().reset_index(name='Scheduled Flights hour')\n",
    "df=df.sort_values('Flight Datetime').reset_index(drop=True)\n",
    "df=pd.merge_asof(df,datecounts,on='Flight Datetime')\n",
    "df=pd.merge_asof(df,hourcounts,on='Flight Datetime')\n",
    "df['aobt_year']=df['AOBT'].dt.year\n",
    "df['aobt_month']=df['AOBT'].dt.month\n",
    "df['aobt_day']=df['AOBT'].dt.weekday\n",
    "df['aobt_hour']=df['AOBT'].dt.hour\n",
    "df.drop(['Flight Datetime', 'AOBT', 'ATOT'],axis=1,inplace=True)\n",
    "df = df.rename(columns = lambda x:re.sub('[^A-Za-z0-9_]+', '', x))\n",
    "df.drop(['Unnamed0'],axis=1,inplace=True)\n",
    "cols=['AircraftModel_x', 'Stand', 'Runway', 'summary', 'Manufacturer',\n",
    "       'Model', 'WakeCategory', 'Final', 'AircraftModel_y', 'OldMovementType','aobt_month', 'aobt_day', 'aobt_hour']\n",
    "for col in cols:\n",
    "    df[col]=df[col].astype('category')"
   ]
  },
  {
   "cell_type": "code",
   "execution_count": null,
   "metadata": {},
   "outputs": [],
   "source": [
    "train=df[df['aobt_year']!=2018]\n",
    "test=df[df['aobt_year']==2018]\n",
    "X_train=train.drop('TO',axis=1)\n",
    "X_test=test.drop('TO',axis=1)\n",
    "\n",
    "y_train=train['TO']\n",
    "y_test=test['TO']"
   ]
  },
  {
   "cell_type": "code",
   "execution_count": null,
   "metadata": {},
   "outputs": [],
   "source": [
    "reg=lgb.LGBMRegressor(n_estimators=75)\n",
    "reg.fit(X_train,y_train)\n",
    "y_pred_train = reg.predict(X_train)\n",
    "y_pred_test = reg.predict(X_test)"
   ]
  },
  {
   "cell_type": "code",
   "execution_count": null,
   "metadata": {
    "tags": []
   },
   "outputs": [],
   "source": [
    "print('Train scores : {}'.format(scores.get_scores(y_train,y_pred_train,['rmse','r2','mae'])))\n",
    "print('Test scores : {}'.format(scores.get_scores(y_test,y_pred_test,['rmse','r2','mae'])))"
   ]
  },
  {
   "cell_type": "code",
   "execution_count": null,
   "metadata": {},
   "outputs": [],
   "source": [
    "lgb.plot_importance(reg,max_num_features=20,importance_type='gain')"
   ]
  },
  {
   "cell_type": "markdown",
   "metadata": {},
   "source": [
    "#### To>3600"
   ]
  },
  {
   "cell_type": "code",
   "execution_count": null,
   "metadata": {
    "tags": []
   },
   "outputs": [],
   "source": [
    "threshold=3600\n",
    "df=df_airport[df_airport['TO']<=threshold]\n",
    "print(\"Filtering out {} values ({:0.2f}%)\".format(df_airport[df_airport['TO']>threshold].shape[0],100*(df_airport[df_airport['TO']>threshold].shape[0]/df_airport.shape[0])))"
   ]
  },
  {
   "cell_type": "code",
   "execution_count": null,
   "metadata": {},
   "outputs": [],
   "source": [
    "df=preprocess.get_previous_taxi_times(df,5)\n",
    "df=preprocess.get_ma(df,30)\n",
    "df=preprocess.get_ma(df,60)\n",
    "df=preprocess.get_ma(df,100)\n",
    "df=preprocess.get_no_takeoffs(df)\n",
    "df['delay']=(df['AOBT']-df['Flight Datetime']).dt.seconds\n",
    "df=df.groupby('Runway').apply(preprocess.get_runway_traffic).reset_index(drop=True)\n",
    "datecounts=df.set_index('Flight Datetime').groupby(pd.Grouper(freq='D')).size().reset_index(name='Scheduled Flights day')\n",
    "hourcounts=df.set_index('Flight Datetime').groupby(pd.Grouper(freq='H')).size().reset_index(name='Scheduled Flights hour')\n",
    "df=df.sort_values('Flight Datetime').reset_index(drop=True)\n",
    "df=pd.merge_asof(df,datecounts,on='Flight Datetime')\n",
    "df=pd.merge_asof(df,hourcounts,on='Flight Datetime')\n",
    "df['aobt_year']=df['AOBT'].dt.year\n",
    "df['aobt_month']=df['AOBT'].dt.month\n",
    "df['aobt_day']=df['AOBT'].dt.weekday\n",
    "df['aobt_hour']=df['AOBT'].dt.hour\n",
    "df.drop(['Flight Datetime', 'AOBT', 'ATOT'],axis=1,inplace=True)\n",
    "df = df.rename(columns = lambda x:re.sub('[^A-Za-z0-9_]+', '', x))\n",
    "df.drop(['Unnamed0'],axis=1,inplace=True)\n",
    "cols=['AircraftModel_x', 'Stand', 'Runway', 'summary', 'Manufacturer',\n",
    "       'Model', 'WakeCategory', 'Final', 'AircraftModel_y', 'OldMovementType','aobt_month', 'aobt_day', 'aobt_hour']\n",
    "for col in cols:\n",
    "    df[col]=df[col].astype('category')"
   ]
  },
  {
   "cell_type": "code",
   "execution_count": null,
   "metadata": {},
   "outputs": [],
   "source": [
    "train=df[df['aobt_year']!=2018]\n",
    "test=df[df['aobt_year']==2018]\n",
    "X_train=train.drop('TO',axis=1)\n",
    "X_test=test.drop('TO',axis=1)\n",
    "\n",
    "y_train=train['TO']\n",
    "y_test=test['TO']"
   ]
  },
  {
   "cell_type": "code",
   "execution_count": null,
   "metadata": {},
   "outputs": [],
   "source": [
    "reg=lgb.LGBMRegressor(n_estimators=75)\n",
    "reg.fit(X_train,y_train)\n",
    "y_pred_train = reg.predict(X_train)\n",
    "y_pred_test = reg.predict(X_test)"
   ]
  },
  {
   "cell_type": "code",
   "execution_count": null,
   "metadata": {
    "tags": []
   },
   "outputs": [],
   "source": [
    "print('Train scores : {}'.format(scores.get_scores(y_train,y_pred_train,['rmse','r2','mae'])))\n",
    "print('Test scores : {}'.format(scores.get_scores(y_test,y_pred_test,['rmse','r2','mae'])))"
   ]
  },
  {
   "cell_type": "code",
   "execution_count": null,
   "metadata": {},
   "outputs": [],
   "source": [
    "lgb.plot_importance(reg,max_num_features=20,importance_type='gain')"
   ]
  },
  {
   "cell_type": "code",
   "execution_count": null,
   "metadata": {},
   "outputs": [],
   "source": []
  },
  {
   "cell_type": "markdown",
   "metadata": {},
   "source": [
    "## Isolation Forest for Outlier removal"
   ]
  },
  {
   "cell_type": "code",
   "execution_count": null,
   "metadata": {},
   "outputs": [],
   "source": [
    "df=preprocess.ohe(df,['AircraftModel_x', 'Stand', 'Runway', 'summary', 'Manufacturer',\n",
    "       'Model', 'WakeCategory', 'Final', 'AircraftModel_y', 'OldMovementType','aobt_month', 'aobt_day', 'aobt_hour'])"
   ]
  },
  {
   "cell_type": "code",
   "execution_count": null,
   "metadata": {},
   "outputs": [],
   "source": [
    "train=df[df['aobt_year']!=2018]\n",
    "test=df[df['aobt_year']==2018]\n",
    "X_train=train.drop('TO',axis=1)\n",
    "X_test=test.drop('TO',axis=1)\n",
    "y_train=train['TO']\n",
    "y_test=test['TO']"
   ]
  },
  {
   "cell_type": "code",
   "execution_count": null,
   "metadata": {},
   "outputs": [],
   "source": [
    "from sklearn.ensemble import IsolationForest\n",
    "iso = IsolationForest(contamination=0.1)\n",
    "yhat = iso.fit_predict(X_train)\n",
    "mask = yhat != -1\n",
    "X_train, y_train = X_train[mask, :], y_train[mask]"
   ]
  },
  {
   "cell_type": "code",
   "execution_count": null,
   "metadata": {},
   "outputs": [],
   "source": []
  }
 ],
 "metadata": {
  "kernelspec": {
   "display_name": "Python 3",
   "language": "python",
   "name": "python3"
  },
  "language_info": {
   "codemirror_mode": {
    "name": "ipython",
    "version": 3
   },
   "file_extension": ".py",
   "mimetype": "text/x-python",
   "name": "python",
   "nbconvert_exporter": "python",
   "pygments_lexer": "ipython3",
   "version": "3.7.3-final"
  }
 },
 "nbformat": 4,
 "nbformat_minor": 4
}
