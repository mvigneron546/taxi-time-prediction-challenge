{
 "cells": [
  {
   "cell_type": "code",
   "execution_count": null,
   "metadata": {},
   "outputs": [],
   "source": [
    "import pandas as pd\n",
    "import numpy as np\n",
    "import moving_average as ma\n",
    "from datetime import timedelta\n",
    "from datetime import datetime"
   ]
  },
  {
   "cell_type": "code",
   "execution_count": null,
   "metadata": {},
   "outputs": [],
   "source": [
    "# Merge train test dataframes\n",
    "df_airport_train=pd.read_csv('../Taxi time - eleven Data Challenge/0. Airport data/training_set_airport_data.csv')\n",
    "df_airport_test=pd.read_csv('../Taxi time - eleven Data Challenge/0. Airport data/test_set_airport_data.csv')\n",
    "df_airport=pd.concat([df_airport_train,df_airport_test]).reset_index(drop=True)"
   ]
  },
  {
   "cell_type": "code",
   "execution_count": null,
   "metadata": {},
   "outputs": [],
   "source": [
    "# Convert datetime columns in the right format\n",
    "df_airport[['Flight Datetime', 'AOBT', 'ATOT']] = df_airport[['Flight Datetime', 'AOBT', 'ATOT']].apply(pd.to_datetime)\n",
    "# Taxi-out duration\n",
    "df_airport['TO'] = (df_airport['ATOT'] - df_airport['AOBT']).dt.seconds"
   ]
  },
  {
   "cell_type": "code",
   "execution_count": null,
   "metadata": {},
   "outputs": [],
   "source": [
    "# Filtering out wrong data where ATOT<ABOT\n",
    "df_airport=df_airport[df_airport['ATOT']>=df_airport['AOBT']]"
   ]
  },
  {
   "cell_type": "markdown",
   "metadata": {},
   "source": [
    "## 2-month moving average (baseline)"
   ]
  },
  {
   "cell_type": "code",
   "execution_count": null,
   "metadata": {},
   "outputs": [],
   "source": [
    "# Not to run: Results exported as 2M_MA_2015-2019.csv\n",
    "# Function to calculate  2 month moving average\n",
    "\n",
    "df_airport['date-60']=df_airport['Flight Datetime']-timedelta(days=60)\n",
    "df=df_airport.copy()\n",
    "#df=df[df['TO']<=3600]\n",
    "\n",
    "def get_2_month_average(row,df):\n",
    "    start_date=datetime(2015,1,1,6)\n",
    "    if row['date-60']<start_date:\n",
    "        row['date-60']=start_date\n",
    "    df=df[(df['Flight Datetime']<row['Flight Datetime'])&(df['Flight Datetime']>=row['date-60'])]\n",
    "    row['2M Average']=df['TO'].mean()\n",
    "    row['window_size']=df.shape[0]\n",
    "    return row\n",
    "\n",
    "df_2ma=df.apply(lambda x: get_2_month_average(x,df),axis=1)\n",
    "df_2ma=df_2ma.fillna(method='bfill')"
   ]
  },
  {
   "cell_type": "markdown",
   "metadata": {},
   "source": [
    "### Test set score "
   ]
  },
  {
   "cell_type": "code",
   "execution_count": null,
   "metadata": {},
   "outputs": [],
   "source": [
    "# Import csv file with all moving average predictions\n",
    "df_2ma=pd.read_csv('2M_MA_2015-2019.csv')\n",
    "# Filter for just test data(2019)\n",
    "df_2ma['Flight Datetime']=pd.to_datetime(df_2ma['Flight Datetime'])\n",
    "df_2ma_test=df_2ma[(df_2ma['Flight Datetime'].dt.year)==2019]"
   ]
  },
  {
   "cell_type": "code",
   "execution_count": null,
   "metadata": {
    "tags": []
   },
   "outputs": [],
   "source": [
    "# Moving average scores for test data(2019)\n",
    "y_true=df_2ma_test['TO']\n",
    "y_pred=df_2ma_test['2M Average']\n",
    "scores=ma.get_scores(y_true,y_pred,metrics=['rmse','mae','r2','first_quartile_error','third_quartile_error'])\n",
    "for k,v in scores.items():\n",
    "    print(\"{}:{:0.2f}\".format(k,v))"
   ]
  },
  {
   "cell_type": "markdown",
   "metadata": {},
   "source": [
    "### All data (including outliers)"
   ]
  },
  {
   "cell_type": "code",
   "execution_count": null,
   "metadata": {
    "tags": []
   },
   "outputs": [],
   "source": [
    "# Scores for the entire dataset (2015-2019)\n",
    "df_2ma=pd.read_csv('2M_MA_2015-2019.csv')\n",
    "y_true=df_2ma['TO']\n",
    "y_pred=df_2ma['2M Average']\n",
    "scores=ma.get_scores(y_true,y_pred,metrics=['rmse','mae','r2','first_quartile_error','third_quartile_error'])\n",
    "for k,v in scores.items():\n",
    "    print(\"{}:{:0.2f}\".format(k,v))"
   ]
  },
  {
   "cell_type": "markdown",
   "metadata": {},
   "source": [
    "## Simple moving average (Grouped by runway)"
   ]
  },
  {
   "cell_type": "markdown",
   "metadata": {},
   "source": [
    "### Window size = 20"
   ]
  },
  {
   "cell_type": "code",
   "execution_count": null,
   "metadata": {},
   "outputs": [],
   "source": [
    "# Simple moving average with fixed window size grouped by runway\n",
    "df_sma=df_airport.groupby('Runway').apply(lambda x: ma.simple_moving_average(x,window_size=20))"
   ]
  },
  {
   "cell_type": "code",
   "execution_count": null,
   "metadata": {
    "tags": []
   },
   "outputs": [],
   "source": [
    "# Scores for simple moving average with window_size=20\n",
    "y_true=df_sma['TO']\n",
    "y_pred=df_sma['SMA']\n",
    "scores=ma.get_scores(y_true,y_pred,metrics=['rmse','mae','r2','first_quartile_error','third_quartile_error'])\n",
    "for k,v in scores.items():\n",
    "    print(\"{}:\\n{:0.2f}\".format(k,v))"
   ]
  },
  {
   "cell_type": "markdown",
   "metadata": {},
   "source": [
    "### Best window size"
   ]
  },
  {
   "cell_type": "code",
   "execution_count": null,
   "metadata": {
    "tags": []
   },
   "outputs": [],
   "source": [
    "# Find the best window size by testing on a range (1,100)\n",
    "best_window_size=ma.get_best_window_size(df_airport,np.arange(1,101),metric='rmse')\n",
    "print('Best window size: {}'.format(best_window_size))\n",
    "df_sma=df_airport.groupby('Runway').apply(lambda x: ma.simple_moving_average(x,window_size=best_window_size))\n",
    "y_true=df_sma['TO']\n",
    "y_pred=df_sma['SMA']\n",
    "scores=ma.get_scores(y_true,y_pred,metrics=['rmse','mae','r2','first_quartile_error','third_quartile_error'])\n",
    "for k,v in scores.items():\n",
    "    print(\"{}:\\n{:0.2f}\".format(k,v))"
   ]
  },
  {
   "cell_type": "markdown",
   "metadata": {},
   "source": [
    "## Exponential Moving average (Grouped by runway)"
   ]
  },
  {
   "cell_type": "markdown",
   "metadata": {},
   "source": [
    "### Alpha = 0.1"
   ]
  },
  {
   "cell_type": "code",
   "execution_count": null,
   "metadata": {
    "tags": []
   },
   "outputs": [],
   "source": [
    "# Calculate the exponential moving average per runway for a an alpha value\n",
    "df_ema=df_airport.groupby('Runway').apply(lambda x: ma.exponential_moving_average(x,alpha=0.1))\n",
    "y_true=df_ema['TO']\n",
    "y_pred=df_ema['EMA']\n",
    "scores=ma.get_scores(y_true,y_pred,metrics=['rmse','mae','r2','first_quartile_error','third_quartile_error'])\n",
    "for k,v in scores.items():\n",
    "    print(\"{}:\\n{:0.2f}\".format(k,v))"
   ]
  },
  {
   "cell_type": "code",
   "execution_count": null,
   "metadata": {},
   "outputs": [],
   "source": []
  }
 ],
 "metadata": {
  "kernelspec": {
   "display_name": "Python 3.7.3 64-bit ('base': conda)",
   "metadata": {
    "interpreter": {
     "hash": "e9b9eb466fb18c923065835f1e6da91e6d77b51620dcc9a87aa2e88ddae8b9ce"
    }
   },
   "name": "Python 3.7.3 64-bit ('base': conda)"
  },
  "language_info": {
   "codemirror_mode": {
    "name": "ipython",
    "version": 3
   },
   "file_extension": ".py",
   "mimetype": "text/x-python",
   "name": "python",
   "nbconvert_exporter": "python",
   "pygments_lexer": "ipython3",
   "version": "3.7.3-final"
  }
 },
 "nbformat": 4,
 "nbformat_minor": 2
}
